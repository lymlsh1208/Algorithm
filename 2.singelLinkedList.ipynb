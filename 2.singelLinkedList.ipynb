{
 "cells": [
  {
   "cell_type": "markdown",
   "metadata": {},
   "source": [
    "## 1.合并两个有序链表\n",
    "* 将两个有序链表合并为一个新的有序链表并返回。新链表是通过拼接给定的两个链表的所有节点组成的。"
   ]
  },
  {
   "cell_type": "code",
   "execution_count": 3,
   "metadata": {},
   "outputs": [],
   "source": [
    "# Definition for singly-linked list.\n",
    "#依次比较第一个数字，把更小的排在最前面，如果某一个链表已经取完，则直接把另一个链表剩余的添加到结果中\n",
    "class ListNode:\n",
    "    def __init__(self, x):\n",
    "        self.val = x\n",
    "        self.next = None\n",
    "\n",
    "class Solution:\n",
    "    def mergeTwoLists(self, l1: ListNode, l2: ListNode) -> ListNode:\n",
    "        if l1 is None and l2 is None:\n",
    "            return None\n",
    "        new_list = ListNode(0)\n",
    "        pre = new_list\n",
    "        while l1 is not None and l2 is not None:\n",
    "            if l1.val < l2.val:\n",
    "                pre.next = l1\n",
    "                l1 = l1.next\n",
    "            else:\n",
    "                pre.next = l2\n",
    "                l2 = l2.next\n",
    "            pre = pre.next\n",
    "        if l1 is not None:\n",
    "            pre.next = l1\n",
    "        else:\n",
    "            pre.next = l2\n",
    "        return new_list.next\n"
   ]
  },
  {
   "cell_type": "code",
   "execution_count": 4,
   "metadata": {},
   "outputs": [],
   "source": [
    "#或者使用递归\n",
    "class ListNode:\n",
    "    def __init__(self, x):\n",
    "        self.val = x\n",
    "        self.next = None\n",
    "\n",
    "class Solution:\n",
    "    def mergeTwoLists(self, l1, l2):\n",
    "        if not l1:\n",
    "            return l2\n",
    "        if not l2:\n",
    "            return l1\n",
    "        if l1.val <= l2.val:\n",
    "            ret = l1\n",
    "            ret.next = self.mergeTwoLists(l1.next, l2)\n",
    "        else:\n",
    "            ret = l2\n",
    "            ret.next = self.mergeTwoLists(l1, l2.next)\n",
    "        return ret"
   ]
  },
  {
   "cell_type": "markdown",
   "metadata": {},
   "source": [
    "## 2. 删除链表的倒数第N个节点\n",
    "* 给定一个链表，删除链表的倒数第 n 个节点，并且返回链表的头结点。"
   ]
  },
  {
   "cell_type": "code",
   "execution_count": 6,
   "metadata": {},
   "outputs": [],
   "source": [
    "# Definition for singly-linked list.\n",
    "class ListNode:\n",
    "    def __init__(self, x):\n",
    "        self.val = x\n",
    "        self.next = None\n",
    "\n",
    "class Solution:\n",
    "    def removeNthFromEnd(self, head: ListNode, n: int) -> ListNode:\n",
    "        p = head\n",
    "        slow, fast = p, p\n",
    "        while(n):\n",
    "            n -= 1\n",
    "            fast = fast.next\n",
    "        if fast is None:\n",
    "            return p.next    \n",
    "        while(fast and fast.next):\n",
    "            fast = fast.next\n",
    "            slow = slow.next\n",
    "        \n",
    "        slow.next = slow.next.next\n",
    "        \n",
    "        return p"
   ]
  },
  {
   "cell_type": "markdown",
   "metadata": {},
   "source": [
    "## 3.旋转列表\n",
    "* 给定一个链表，旋转链表，将链表每个节点向右移动k个位置，其中k是非负数。\n",
    "* 计算链表长度n，然后对k求模，假设结果为s，从头结点或第一个节点向后遍历s个节点，然后将这s个结点追加到后面的n-s个结点之后，然后返回新的链表。"
   ]
  },
  {
   "cell_type": "code",
   "execution_count": 7,
   "metadata": {},
   "outputs": [],
   "source": [
    "class ListNode:\n",
    "    def __init__(self, x):\n",
    "        self.val = x\n",
    "        self.next = None\n",
    "class Solution:\n",
    "    def rotateRight(self, head: ListNode, k: int) -> ListNode:\n",
    "        if head is None or k<=0:\n",
    "            return head        \n",
    "        length = 0\n",
    "        tmp = head\n",
    "        while tmp:\n",
    "            length += 1\n",
    "            tmp = tmp.next\n",
    "        if k == length or length == 1 or k % length == 0:\n",
    "            return head\n",
    "        k = k % length             \n",
    "        dummy = ListNode(None)\n",
    "        dummy.next = head\n",
    "        head = dummy\n",
    "        fast = head\n",
    "        slow = head\n",
    "        for i in range(k+1):\n",
    "            fast = fast.next\n",
    "            if fast is None:\n",
    "                return head.next\n",
    "        while fast:\n",
    "            fast = fast.next\n",
    "            slow = slow.next\n",
    "        last = slow.next\n",
    "        slow.next = None\n",
    "        slow = last\n",
    "        while  slow.next:\n",
    "            slow = slow.next\n",
    "        slow.next = head.next\n",
    "        return last"
   ]
  },
  {
   "cell_type": "code",
   "execution_count": null,
   "metadata": {},
   "outputs": [],
   "source": []
  }
 ],
 "metadata": {
  "kernelspec": {
   "display_name": "Python 3",
   "language": "python",
   "name": "python3"
  },
  "language_info": {
   "codemirror_mode": {
    "name": "ipython",
    "version": 3
   },
   "file_extension": ".py",
   "mimetype": "text/x-python",
   "name": "python",
   "nbconvert_exporter": "python",
   "pygments_lexer": "ipython3",
   "version": "3.7.1"
  }
 },
 "nbformat": 4,
 "nbformat_minor": 2
}
